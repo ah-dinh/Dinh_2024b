{
 "cells": [
  {
   "cell_type": "code",
   "execution_count": 1,
   "id": "3cba6b52",
   "metadata": {},
   "outputs": [],
   "source": [
    "import numpy as np\n",
    "import zarr\n",
    "import matplotlib.pyplot as plt\n",
    "from tqdm import tqdm\n",
    "import netCDF4 as nc"
   ]
  },
  {
   "cell_type": "code",
   "execution_count": 2,
   "id": "402ca16e",
   "metadata": {},
   "outputs": [],
   "source": [
    "import sys\n",
    "sys.path.insert(0, '/data/SO2/SO24/ANDY/SOHI/Utils')\n",
    "import Andy"
   ]
  },
  {
   "cell_type": "markdown",
   "id": "01a557bc",
   "metadata": {},
   "source": [
    "### Modify 700 isobath"
   ]
  },
  {
   "cell_type": "code",
   "execution_count": 3,
   "id": "0f3578ae",
   "metadata": {},
   "outputs": [],
   "source": [
    "bathy = nc.Dataset(\"/data/SO2/SO24/ANDY/SOHI/Data/Models/SOHI/Annum/Amundsen.nc\")\n",
    "XC = bathy['lon'][:]\n",
    "YC = bathy['lat'][:]\n",
    "\n",
    "bathy, XC, YC = Andy.loads.sohi_meta('bathymetry', lat_bounds = YC, lon_bounds=XC)"
   ]
  },
  {
   "cell_type": "code",
   "execution_count": 4,
   "id": "a66e7007",
   "metadata": {},
   "outputs": [],
   "source": [
    "mask = np.load('inputs/ref/700m_isobath.npy')"
   ]
  },
  {
   "cell_type": "code",
   "execution_count": 5,
   "id": "c5835f70",
   "metadata": {},
   "outputs": [],
   "source": [
    "mask2 = mask.copy()\n",
    "\n",
    "mask2[:, 1008:] = 2 ## From East\n",
    "mask2[:, :100] = 3 ## From West\n",
    "\n",
    "mask2[mask==0] = 0"
   ]
  },
  {
   "cell_type": "code",
   "execution_count": 6,
   "id": "ea06b284",
   "metadata": {},
   "outputs": [
    {
     "data": {
      "text/plain": [
       "(-135.85416, -98.02081)"
      ]
     },
     "execution_count": 6,
     "metadata": {},
     "output_type": "execute_result"
    }
   ],
   "source": [
    "XC[100], XC[1008]"
   ]
  },
  {
   "cell_type": "code",
   "execution_count": 7,
   "id": "341883b8",
   "metadata": {},
   "outputs": [],
   "source": [
    "np.save('inputs/ref/700m_isobath_v2.npy', mask2)"
   ]
  },
  {
   "cell_type": "code",
   "execution_count": 8,
   "id": "07c6e7ea",
   "metadata": {},
   "outputs": [],
   "source": [
    "mask2 = np.load('inputs/ref/700m_isobath_v2.npy')"
   ]
  },
  {
   "cell_type": "code",
   "execution_count": 9,
   "id": "5ddd8455",
   "metadata": {},
   "outputs": [
    {
     "data": {
      "text/plain": [
       "<matplotlib.collections.QuadMesh at 0x7f58536a23d0>"
      ]
     },
     "execution_count": 9,
     "metadata": {},
     "output_type": "execute_result"
    },
    {
     "data": {
      "image/png": "[encoded data removed]",
      "text/plain": [
       "<Figure size 640x480 with 1 Axes>"
      ]
     },
     "metadata": {},
     "output_type": "display_data"
    }
   ],
   "source": [
    "plt.pcolormesh(mask2)"
   ]
  },
  {
   "cell_type": "markdown",
   "id": "3ca14e2c",
   "metadata": {},
   "source": [
    "### Find Index of when particle Exit Cavity & Continental Shelf"
   ]
  },
  {
   "cell_type": "code",
   "execution_count": 3,
   "id": "54dbff9e",
   "metadata": {},
   "outputs": [],
   "source": [
    "def extract_index(data_path, CS_mask, nwait = 3):\n",
    "    \n",
    "    print('Loading data...')\n",
    "    \n",
    "    INDEX = zarr.open(data_path, 'r')\n",
    "    I = INDEX['I'][:]\n",
    "    I = I.astype(int)\n",
    "    J = INDEX['J'][:]\n",
    "    J = J.astype(int)\n",
    "    LONGITUDE = INDEX['lon'][:]\n",
    "    \n",
    "    IC_mask = np.load('ocean_mask.npy')\n",
    "    CS_mask = np.load(CS_mask)\n",
    "    \n",
    "    \n",
    "    IC_index = [] ## exit ice cavity \n",
    "    Eastern_index = [] ## come from Eastern portion of the shelf \n",
    "    Western_index = [] ## come from Western portion of the shelf \n",
    "    CS_index = [] ## come from offshelf\n",
    "    stucked1 = [] ## particles stucked while leaving cavity \n",
    "    stucked2 = [] ## particles stucked while leaving continental shelf\n",
    "    stucked3 = [] ## particles stucked anywhere\n",
    "    still_in_count = 0\n",
    "    \n",
    "    print('Processing...')\n",
    "    for p in tqdm(range(INDEX['I'].shape[0])):\n",
    "        added1=False ## Particle exitted ice shelf\n",
    "        added2=False\n",
    "        \n",
    "        fromEW = False\n",
    "        \n",
    "        exited = False\n",
    "        countdown = False\n",
    "        count = 0\n",
    "        for t in range(I.shape[1]-4):## No data for last 4 time steps\n",
    "            i = I[p, t]\n",
    "            j = J[p, t]\n",
    "            \n",
    "            if np.isnan(i) or np.isnan(j):\n",
    "                break\n",
    "                \n",
    "            if not exited: ## particle still under ice shelf \n",
    "                \n",
    "                if IC_mask[i,j] == 1: ## Particle exit ice shelf, start n-day countdown \n",
    "                    countdown=True\n",
    "                    count += 1\n",
    "                else: ## particle under ice shelf, no active count down \n",
    "                    countdown = False\n",
    "                    count = 0\n",
    "                    \n",
    "                if countdown and count == nwait:\n",
    "                    IC_index.append(t-nwait+1)\n",
    "                    added1=True\n",
    "                    exited=True\n",
    "                    countdown = False\n",
    "\n",
    "            elif exited: ## Search continental shelf mask\n",
    "                \n",
    "                if not fromEW:\n",
    "                    if CS_mask[i,j] == 2: ## particle touches Eastern portion\n",
    "                        Eastern_index.append(t)\n",
    "                        Western_index.append(np.nan)\n",
    "                        fromEW=True\n",
    "                    elif CS_mask[i,j] == 3: ## particle touches Western portion\n",
    "                        Western_index.append(t)\n",
    "                        Eastern_index.append(np.nan)\n",
    "                        fromEW=True\n",
    "                \n",
    "                if CS_mask[i,j] == 0: ## Particle exit continental shelf, start n-day countdown \n",
    "                    countdown=True\n",
    "                    count += 1\n",
    "                else: \n",
    "                    countdown = False\n",
    "                    count = 0\n",
    "                    \n",
    "                if countdown and count == nwait:\n",
    "                    CS_index.append(t-nwait+1)\n",
    "                    added2=True\n",
    "                    break\n",
    "                    \n",
    " \n",
    "        if not added1:\n",
    "            IC_index.append(np.nan)\n",
    "        if not added2:\n",
    "            CS_index.append(np.nan)\n",
    "        if not fromEW:\n",
    "            Eastern_index.append(np.nan)\n",
    "            Western_index.append(np.nan)\n",
    "            \n",
    "        if added2 or fromEW: ## particle exit ASE - not stuck\n",
    "            stucked1.append(0)\n",
    "            stucked2.append(0)\n",
    "            stucked3.append(0)\n",
    "            \n",
    "        elif added1: ## particle exit cavity, but stucked on shelf?\n",
    "            stucked1.append(0)\n",
    "            if LONGITUDE[p, -6] == LONGITUDE[p, -5]:\n",
    "                stucked2.append(1)\n",
    "                stucked3.append(1)\n",
    "            else:\n",
    "                stucked2.append(0)\n",
    "                stucked3.append(0)\n",
    "                \n",
    "        else: ## particle did not exit cavity, stucked?\n",
    "            if LONGITUDE[p, -6] == LONGITUDE[p, -5]: \n",
    "                stucked1.append(1)\n",
    "                stucked2.append(0)\n",
    "                stucked3.append(1)\n",
    "            else:\n",
    "                stucked1.append(0)\n",
    "                stucked2.append(0)\n",
    "                stucked3.append(0)\n",
    "                still_in_count+= 1\n",
    "                \n",
    "#             print(LONGITUDE[p, -6],LONGITUDE[p, -5])\n",
    "         \n",
    "    \n",
    "    print(f\"Particles still in cavity after 3 years: {still_in_count}\")\n",
    "    \n",
    "    return np.asarray(IC_index), np.asarray(CS_index),  np.asarray(Eastern_index), \\\n",
    "np.asarray(Western_index), np.asarray(stucked1), np.asarray(stucked2), np.asarray(stucked3)"
   ]
  },
  {
   "cell_type": "code",
   "execution_count": 4,
   "id": "4f54c5e0",
   "metadata": {},
   "outputs": [],
   "source": [
    "test = zarr.open('outputs/R8_ASE_5min/pineisland.zarr', 'r')"
   ]
  },
  {
   "cell_type": "code",
   "execution_count": 8,
   "id": "8d15702a",
   "metadata": {},
   "outputs": [
    {
     "name": "stdout",
     "output_type": "stream",
     "text": [
      "Loading data...\n",
      "Processing...\n"
     ]
    },
    {
     "name": "stderr",
     "output_type": "stream",
     "text": [
      "100%|███████████████████████████████████████████████████| 397476/397476 [20:35<00:00, 321.84it/s]\n"
     ]
    },
    {
     "name": "stdout",
     "output_type": "stream",
     "text": [
      "Particles still in cavity after 3 years: 1\n"
     ]
    }
   ],
   "source": [
    "IC_index, CS_index, EI, WI, stucked1, stucked2, stucked3 = extract_index(data_path = 'outputs/R8_ASE_5min/pineisland.zarr', \n",
    "                                        CS_mask = 'inputs/ref/700m_isobath_v2.npy', \n",
    "                                        nwait = 1)\n",
    "\n",
    "np.save('processed_dataGL/pineisland_0d_IS.npy', IC_index)\n",
    "np.save('processed_dataGL/pineisland_0d_CS.npy', CS_index)\n",
    "np.save('processed_dataGL/pineisland_0d_Stucked.npy', stucked3)\n",
    "np.save('processed_dataGL/pineisland_0d_Stucked_onshelf.npy', stucked2)\n",
    "np.save('processed_dataGL/pineisland_0d_Stucked_incavity.npy', stucked1)\n",
    "np.save('processed_dataGL/pineisland_0d_Eastern.npy', EI)\n",
    "np.save('processed_dataGL/pineisland_0d_Western.npy', WI)"
   ]
  },
  {
   "cell_type": "code",
   "execution_count": 5,
   "id": "00e16139",
   "metadata": {},
   "outputs": [
    {
     "name": "stdout",
     "output_type": "stream",
     "text": [
      "Num particles from West ONLY: 2 (0.00%)\n",
      "Num particles off-shelf through West: 0 (0.00%)\n",
      "Num particles from East ONLY: 85873 (21.60%)\n",
      "Num particles off-shelf through East: 12517 (3.15%)\n",
      "Num particles off-shelf ONLY: 115234 (28.99%)\n"
     ]
    }
   ],
   "source": [
    "n = len(IC_index)\n",
    "\n",
    "v = np.count_nonzero(np.logical_and(~np.isnan(WI), np.isnan(CS_index)))\n",
    "print(f\"Num particles from West ONLY: {v} ({v/n*100:0.2f}%)\")\n",
    "v = np.count_nonzero(np.logical_and(~np.isnan(WI), ~np.isnan(CS_index)))\n",
    "print(f\"Num particles off-shelf through West: {v} ({v/n*100:0.2f}%)\")\n",
    "v = np.count_nonzero(np.logical_and(~np.isnan(EI), np.isnan(CS_index)))\n",
    "print(f\"Num particles from East ONLY: {v} ({v/n*100:0.2f}%)\")\n",
    "v = np.count_nonzero(np.logical_and(~np.isnan(EI), ~np.isnan(CS_index)))\n",
    "print(f\"Num particles off-shelf through East: {v} ({v/n*100:0.2f}%)\")\n",
    "v = np.count_nonzero(np.logical_and(np.isnan(EI), ~np.isnan(CS_index)))\n",
    "print(f\"Num particles off-shelf ONLY: {v} ({v/n*100:0.2f}%)\")"
   ]
  },
  {
   "cell_type": "code",
   "execution_count": 6,
   "id": "54ca17d8",
   "metadata": {},
   "outputs": [
    {
     "name": "stdout",
     "output_type": "stream",
     "text": [
      "Loading data...\n",
      "Processing...\n"
     ]
    },
    {
     "name": "stderr",
     "output_type": "stream",
     "text": [
      "100%|███████████████████████████████████████████████████| 389790/389790 [19:13<00:00, 337.97it/s]\n"
     ]
    },
    {
     "name": "stdout",
     "output_type": "stream",
     "text": [
      "Particles still in cavity after 3 years: 2\n"
     ]
    }
   ],
   "source": [
    "IC_index, CS_index, EI, WI, stucked1, stucked2, stucked3  = extract_index(data_path = 'outputs/R8_ASE_5min/thwaites.zarr', \n",
    "                                        CS_mask = 'inputs/ref/700m_isobath_v2.npy', \n",
    "                                        nwait = 1)\n",
    "\n",
    "np.save('processed_dataGL/thwaites_0d_IS.npy', IC_index)\n",
    "np.save('processed_dataGL/thwaites_0d_CS.npy', CS_index)\n",
    "np.save('processed_dataGL/thwaites_0d_Stucked.npy', stucked3)\n",
    "np.save('processed_dataGL/thwaites_0d_Stucked_onshelf.npy', stucked2)\n",
    "np.save('processed_dataGL/thwaites_0d_Stucked_incavity.npy', stucked1)\n",
    "np.save('processed_dataGL/thwaites_0d_Eastern.npy', EI)\n",
    "np.save('processed_dataGL/thwaites_0d_Western.npy', WI)"
   ]
  },
  {
   "cell_type": "code",
   "execution_count": 7,
   "id": "c0dd2b34",
   "metadata": {},
   "outputs": [
    {
     "name": "stdout",
     "output_type": "stream",
     "text": [
      "Num particles from West ONLY: 2 (0.00%)\n",
      "Num particles off-shelf through West: 0 (0.00%)\n",
      "Num particles from East ONLY: 78456 (20.13%)\n",
      "Num particles off-shelf through East: 9622 (2.47%)\n",
      "Num particles off-shelf ONLY: 104742 (26.87%)\n"
     ]
    }
   ],
   "source": [
    "n = len(IC_index)\n",
    "\n",
    "v = np.count_nonzero(np.logical_and(~np.isnan(WI), np.isnan(CS_index)))\n",
    "print(f\"Num particles from West ONLY: {v} ({v/n*100:0.2f}%)\")\n",
    "v = np.count_nonzero(np.logical_and(~np.isnan(WI), ~np.isnan(CS_index)))\n",
    "print(f\"Num particles off-shelf through West: {v} ({v/n*100:0.2f}%)\")\n",
    "v = np.count_nonzero(np.logical_and(~np.isnan(EI), np.isnan(CS_index)))\n",
    "print(f\"Num particles from East ONLY: {v} ({v/n*100:0.2f}%)\")\n",
    "v = np.count_nonzero(np.logical_and(~np.isnan(EI), ~np.isnan(CS_index)))\n",
    "print(f\"Num particles off-shelf through East: {v} ({v/n*100:0.2f}%)\")\n",
    "v = np.count_nonzero(np.logical_and(np.isnan(EI), ~np.isnan(CS_index)))\n",
    "print(f\"Num particles off-shelf ONLY: {v} ({v/n*100:0.2f}%)\")"
   ]
  },
  {
   "cell_type": "code",
   "execution_count": 8,
   "id": "0a951549",
   "metadata": {},
   "outputs": [
    {
     "name": "stdout",
     "output_type": "stream",
     "text": [
      "Loading data...\n",
      "Processing...\n"
     ]
    },
    {
     "name": "stderr",
     "output_type": "stream",
     "text": [
      "100%|███████████████████████████████████████████████████| 376980/376980 [20:25<00:00, 307.52it/s]\n"
     ]
    },
    {
     "name": "stdout",
     "output_type": "stream",
     "text": [
      "Particles still in cavity after 3 years: 20963\n"
     ]
    }
   ],
   "source": [
    "IC_index, CS_index, EI, WI, stucked1, stucked2, stucked3  = extract_index(data_path = 'outputs/R8_ASE_5min/smith.zarr', \n",
    "                                        CS_mask = 'inputs/ref/700m_isobath_v2.npy', \n",
    "                                        nwait = 1)\n",
    "\n",
    "np.save('processed_dataGL/smith_0d_IS.npy', IC_index)\n",
    "np.save('processed_dataGL/smith_0d_CS.npy', CS_index)\n",
    "np.save('processed_dataGL/smith_0d_Stucked.npy', stucked3)\n",
    "np.save('processed_dataGL/smith_0d_Stucked_onshelf.npy', stucked2)\n",
    "np.save('processed_dataGL/smith_0d_Stucked_incavity.npy', stucked1)\n",
    "np.save('processed_dataGL/smith_0d_Eastern.npy', EI)\n",
    "np.save('processed_dataGL/smith_0d_Western.npy', WI)"
   ]
  },
  {
   "cell_type": "code",
   "execution_count": 9,
   "id": "6ad8bf64",
   "metadata": {},
   "outputs": [
    {
     "name": "stdout",
     "output_type": "stream",
     "text": [
      "Num particles from West ONLY: 2 (0.00%)\n",
      "Num particles off-shelf through West: 0 (0.00%)\n",
      "Num particles from East ONLY: 26459 (7.02%)\n",
      "Num particles off-shelf through East: 1879 (0.50%)\n",
      "Num particles off-shelf ONLY: 113652 (30.15%)\n"
     ]
    }
   ],
   "source": [
    "n = len(IC_index)\n",
    "\n",
    "v = np.count_nonzero(np.logical_and(~np.isnan(WI), np.isnan(CS_index)))\n",
    "print(f\"Num particles from West ONLY: {v} ({v/n*100:0.2f}%)\")\n",
    "v = np.count_nonzero(np.logical_and(~np.isnan(WI), ~np.isnan(CS_index)))\n",
    "print(f\"Num particles off-shelf through West: {v} ({v/n*100:0.2f}%)\")\n",
    "v = np.count_nonzero(np.logical_and(~np.isnan(EI), np.isnan(CS_index)))\n",
    "print(f\"Num particles from East ONLY: {v} ({v/n*100:0.2f}%)\")\n",
    "v = np.count_nonzero(np.logical_and(~np.isnan(EI), ~np.isnan(CS_index)))\n",
    "print(f\"Num particles off-shelf through East: {v} ({v/n*100:0.2f}%)\")\n",
    "v = np.count_nonzero(np.logical_and(np.isnan(EI), ~np.isnan(CS_index)))\n",
    "print(f\"Num particles off-shelf ONLY: {v} ({v/n*100:0.2f}%)\")"
   ]
  },
  {
   "cell_type": "code",
   "execution_count": 10,
   "id": "455c51e6",
   "metadata": {},
   "outputs": [
    {
     "name": "stdout",
     "output_type": "stream",
     "text": [
      "Loading data...\n",
      "Processing...\n"
     ]
    },
    {
     "name": "stderr",
     "output_type": "stream",
     "text": [
      "100%|███████████████████████████████████████████████████| 365268/365268 [18:06<00:00, 336.05it/s]\n"
     ]
    },
    {
     "name": "stdout",
     "output_type": "stream",
     "text": [
      "Particles still in cavity after 3 years: 458\n"
     ]
    }
   ],
   "source": [
    "IC_index, CS_index, EI, WI, stucked1, stucked2, stucked3  = extract_index(data_path = 'outputs/R8_ASE_5min/kohler.zarr', \n",
    "                                        CS_mask = 'inputs/ref/700m_isobath_v2.npy', \n",
    "                                        nwait = 1)\n",
    "\n",
    "np.save('processed_dataGL/kohler_0d_IS.npy', IC_index)\n",
    "np.save('processed_dataGL/kohler_0d_CS.npy', CS_index)\n",
    "np.save('processed_dataGL/kohler_0d_Stucked.npy', stucked3)\n",
    "np.save('processed_dataGL/kohler_0d_Stucked_onshelf.npy', stucked2)\n",
    "np.save('processed_dataGL/kohler_0d_Stucked_incavity.npy', stucked1)\n",
    "np.save('processed_dataGL/kohler_0d_Eastern.npy', EI)\n",
    "np.save('processed_dataGL/kohler_0d_Western.npy', WI)"
   ]
  },
  {
   "cell_type": "code",
   "execution_count": 11,
   "id": "80558efb",
   "metadata": {},
   "outputs": [
    {
     "name": "stdout",
     "output_type": "stream",
     "text": [
      "Num particles from West ONLY: 2 (0.00%)\n",
      "Num particles off-shelf through West: 0 (0.00%)\n",
      "Num particles from East ONLY: 16680 (4.57%)\n",
      "Num particles off-shelf through East: 1045 (0.29%)\n",
      "Num particles off-shelf ONLY: 148821 (40.74%)\n"
     ]
    }
   ],
   "source": [
    "n = len(IC_index)\n",
    "\n",
    "v = np.count_nonzero(np.logical_and(~np.isnan(WI), np.isnan(CS_index)))\n",
    "print(f\"Num particles from West ONLY: {v} ({v/n*100:0.2f}%)\")\n",
    "v = np.count_nonzero(np.logical_and(~np.isnan(WI), ~np.isnan(CS_index)))\n",
    "print(f\"Num particles off-shelf through West: {v} ({v/n*100:0.2f}%)\")\n",
    "v = np.count_nonzero(np.logical_and(~np.isnan(EI), np.isnan(CS_index)))\n",
    "print(f\"Num particles from East ONLY: {v} ({v/n*100:0.2f}%)\")\n",
    "v = np.count_nonzero(np.logical_and(~np.isnan(EI), ~np.isnan(CS_index)))\n",
    "print(f\"Num particles off-shelf through East: {v} ({v/n*100:0.2f}%)\")\n",
    "v = np.count_nonzero(np.logical_and(np.isnan(EI), ~np.isnan(CS_index)))\n",
    "print(f\"Num particles off-shelf ONLY: {v} ({v/n*100:0.2f}%)\")"
   ]
  }
 ],
 "metadata": {
  "kernelspec": {
   "display_name": "Python 3 (ipykernel)",
   "language": "python",
   "name": "python3"
  },
  "language_info": {
   "codemirror_mode": {
    "name": "ipython",
    "version": 3
   },
   "file_extension": ".py",
   "mimetype": "text/x-python",
   "name": "python",
   "nbconvert_exporter": "python",
   "pygments_lexer": "ipython3",
   "version": "3.9.16"
  }
 },
 "nbformat": 4,
 "nbformat_minor": 5
}
